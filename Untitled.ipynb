{
 "cells": [
  {
   "cell_type": "code",
   "execution_count": 63,
   "id": "a5ce9034",
   "metadata": {},
   "outputs": [],
   "source": [
    "import numpy as np\n",
    "import pandas as pd\n",
    "\n",
    "import statsmodels.graphics.tsaplots as sgt\n",
    "import statsmodels.tsa.stattools as sts\n",
    "from statsmodels.tsa.seasonal import seasonal_decompose\n",
    "\n",
    "import matplotlib.pyplot as plt\n",
    "import seaborn as sns\n",
    "sns.set()"
   ]
  },
  {
   "cell_type": "code",
   "execution_count": 65,
   "id": "1b9ecf20",
   "metadata": {},
   "outputs": [],
   "source": [
    "raw_data = pd.read_csv(\"Project_Dataset.csv\")\n",
    "df = raw_data"
   ]
  },
  {
   "cell_type": "code",
   "execution_count": 66,
   "id": "a73d44f2",
   "metadata": {},
   "outputs": [
    {
     "data": {
      "text/html": [
       "<div>\n",
       "<style scoped>\n",
       "    .dataframe tbody tr th:only-of-type {\n",
       "        vertical-align: middle;\n",
       "    }\n",
       "\n",
       "    .dataframe tbody tr th {\n",
       "        vertical-align: top;\n",
       "    }\n",
       "\n",
       "    .dataframe thead th {\n",
       "        text-align: right;\n",
       "    }\n",
       "</style>\n",
       "<table border=\"1\" class=\"dataframe\">\n",
       "  <thead>\n",
       "    <tr style=\"text-align: right;\">\n",
       "      <th></th>\n",
       "      <th>year</th>\n",
       "      <th>GHG_energy</th>\n",
       "      <th>GHG_manufacturing</th>\n",
       "      <th>GHG_Transport</th>\n",
       "      <th>GHG_Others</th>\n",
       "      <th>GHG_fugitive</th>\n",
       "      <th>GHG_Fuel_consumption</th>\n",
       "      <th>Total_GHG_emissions</th>\n",
       "      <th>FC_Transport</th>\n",
       "      <th>FC_Other_Sectors</th>\n",
       "    </tr>\n",
       "  </thead>\n",
       "  <tbody>\n",
       "    <tr>\n",
       "      <th>count</th>\n",
       "      <td>27.000000</td>\n",
       "      <td>27.000000</td>\n",
       "      <td>27.000000</td>\n",
       "      <td>27.000000</td>\n",
       "      <td>27.000000</td>\n",
       "      <td>27.000000</td>\n",
       "      <td>27.000000</td>\n",
       "      <td>27.000000</td>\n",
       "      <td>27.000000</td>\n",
       "      <td>27.000000</td>\n",
       "    </tr>\n",
       "    <tr>\n",
       "      <th>mean</th>\n",
       "      <td>2003.000000</td>\n",
       "      <td>1.740741</td>\n",
       "      <td>0.818519</td>\n",
       "      <td>3.751852</td>\n",
       "      <td>1.554074</td>\n",
       "      <td>0.021111</td>\n",
       "      <td>7.863333</td>\n",
       "      <td>7.883704</td>\n",
       "      <td>1229.246667</td>\n",
       "      <td>3260.842222</td>\n",
       "    </tr>\n",
       "    <tr>\n",
       "      <th>std</th>\n",
       "      <td>7.937254</td>\n",
       "      <td>1.442895</td>\n",
       "      <td>0.293896</td>\n",
       "      <td>2.093701</td>\n",
       "      <td>0.323458</td>\n",
       "      <td>0.009337</td>\n",
       "      <td>3.636053</td>\n",
       "      <td>3.635203</td>\n",
       "      <td>665.193076</td>\n",
       "      <td>897.388043</td>\n",
       "    </tr>\n",
       "    <tr>\n",
       "      <th>min</th>\n",
       "      <td>1990.000000</td>\n",
       "      <td>0.060000</td>\n",
       "      <td>0.300000</td>\n",
       "      <td>1.250000</td>\n",
       "      <td>1.030000</td>\n",
       "      <td>0.000000</td>\n",
       "      <td>3.260000</td>\n",
       "      <td>3.280000</td>\n",
       "      <td>407.560000</td>\n",
       "      <td>1629.120000</td>\n",
       "    </tr>\n",
       "    <tr>\n",
       "      <th>25%</th>\n",
       "      <td>1996.500000</td>\n",
       "      <td>0.300000</td>\n",
       "      <td>0.610000</td>\n",
       "      <td>1.990000</td>\n",
       "      <td>1.375000</td>\n",
       "      <td>0.020000</td>\n",
       "      <td>4.675000</td>\n",
       "      <td>4.685000</td>\n",
       "      <td>688.140000</td>\n",
       "      <td>2737.615000</td>\n",
       "    </tr>\n",
       "    <tr>\n",
       "      <th>50%</th>\n",
       "      <td>2003.000000</td>\n",
       "      <td>1.640000</td>\n",
       "      <td>0.720000</td>\n",
       "      <td>3.210000</td>\n",
       "      <td>1.490000</td>\n",
       "      <td>0.020000</td>\n",
       "      <td>6.820000</td>\n",
       "      <td>6.840000</td>\n",
       "      <td>1090.790000</td>\n",
       "      <td>2938.690000</td>\n",
       "    </tr>\n",
       "    <tr>\n",
       "      <th>75%</th>\n",
       "      <td>2009.500000</td>\n",
       "      <td>2.890000</td>\n",
       "      <td>1.075000</td>\n",
       "      <td>5.130000</td>\n",
       "      <td>1.610000</td>\n",
       "      <td>0.030000</td>\n",
       "      <td>10.010000</td>\n",
       "      <td>10.040000</td>\n",
       "      <td>1655.620000</td>\n",
       "      <td>3921.380000</td>\n",
       "    </tr>\n",
       "    <tr>\n",
       "      <th>max</th>\n",
       "      <td>2016.000000</td>\n",
       "      <td>5.210000</td>\n",
       "      <td>1.290000</td>\n",
       "      <td>7.670000</td>\n",
       "      <td>2.370000</td>\n",
       "      <td>0.040000</td>\n",
       "      <td>14.990000</td>\n",
       "      <td>15.020000</td>\n",
       "      <td>2405.790000</td>\n",
       "      <td>4779.830000</td>\n",
       "    </tr>\n",
       "  </tbody>\n",
       "</table>\n",
       "</div>"
      ],
      "text/plain": [
       "              year  GHG_energy  GHG_manufacturing  GHG_Transport  GHG_Others  \\\n",
       "count    27.000000   27.000000          27.000000      27.000000   27.000000   \n",
       "mean   2003.000000    1.740741           0.818519       3.751852    1.554074   \n",
       "std       7.937254    1.442895           0.293896       2.093701    0.323458   \n",
       "min    1990.000000    0.060000           0.300000       1.250000    1.030000   \n",
       "25%    1996.500000    0.300000           0.610000       1.990000    1.375000   \n",
       "50%    2003.000000    1.640000           0.720000       3.210000    1.490000   \n",
       "75%    2009.500000    2.890000           1.075000       5.130000    1.610000   \n",
       "max    2016.000000    5.210000           1.290000       7.670000    2.370000   \n",
       "\n",
       "       GHG_fugitive  GHG_Fuel_consumption  Total_GHG_emissions  FC_Transport  \\\n",
       "count     27.000000             27.000000            27.000000     27.000000   \n",
       "mean       0.021111              7.863333             7.883704   1229.246667   \n",
       "std        0.009337              3.636053             3.635203    665.193076   \n",
       "min        0.000000              3.260000             3.280000    407.560000   \n",
       "25%        0.020000              4.675000             4.685000    688.140000   \n",
       "50%        0.020000              6.820000             6.840000   1090.790000   \n",
       "75%        0.030000             10.010000            10.040000   1655.620000   \n",
       "max        0.040000             14.990000            15.020000   2405.790000   \n",
       "\n",
       "       FC_Other_Sectors  \n",
       "count         27.000000  \n",
       "mean        3260.842222  \n",
       "std          897.388043  \n",
       "min         1629.120000  \n",
       "25%         2737.615000  \n",
       "50%         2938.690000  \n",
       "75%         3921.380000  \n",
       "max         4779.830000  "
      ]
     },
     "execution_count": 66,
     "metadata": {},
     "output_type": "execute_result"
    }
   ],
   "source": [
    "df.describe()"
   ]
  },
  {
   "cell_type": "code",
   "execution_count": 67,
   "id": "dcdf4ba9",
   "metadata": {},
   "outputs": [
    {
     "data": {
      "text/html": [
       "<div>\n",
       "<style scoped>\n",
       "    .dataframe tbody tr th:only-of-type {\n",
       "        vertical-align: middle;\n",
       "    }\n",
       "\n",
       "    .dataframe tbody tr th {\n",
       "        vertical-align: top;\n",
       "    }\n",
       "\n",
       "    .dataframe thead th {\n",
       "        text-align: right;\n",
       "    }\n",
       "</style>\n",
       "<table border=\"1\" class=\"dataframe\">\n",
       "  <thead>\n",
       "    <tr style=\"text-align: right;\">\n",
       "      <th></th>\n",
       "      <th>year</th>\n",
       "      <th>GHG_energy</th>\n",
       "      <th>GHG_manufacturing</th>\n",
       "      <th>GHG_Transport</th>\n",
       "      <th>GHG_Others</th>\n",
       "      <th>GHG_fugitive</th>\n",
       "      <th>GHG_Fuel_consumption</th>\n",
       "      <th>Total_GHG_emissions</th>\n",
       "      <th>FC_Energy_Industry(TJ)</th>\n",
       "      <th>FC_Transport</th>\n",
       "      <th>FC_Other_Sectors</th>\n",
       "    </tr>\n",
       "  </thead>\n",
       "  <tbody>\n",
       "    <tr>\n",
       "      <th>0</th>\n",
       "      <td>1990-01-01</td>\n",
       "      <td>0.06</td>\n",
       "      <td>0.61</td>\n",
       "      <td>1.41</td>\n",
       "      <td>1.64</td>\n",
       "      <td>0.02</td>\n",
       "      <td>3.71</td>\n",
       "      <td>3.73</td>\n",
       "      <td>30,396.67</td>\n",
       "      <td>464.00</td>\n",
       "      <td>3702.35</td>\n",
       "    </tr>\n",
       "    <tr>\n",
       "      <th>1</th>\n",
       "      <td>1991-01-01</td>\n",
       "      <td>0.06</td>\n",
       "      <td>0.50</td>\n",
       "      <td>1.25</td>\n",
       "      <td>1.46</td>\n",
       "      <td>0.02</td>\n",
       "      <td>3.26</td>\n",
       "      <td>3.28</td>\n",
       "      <td>32,081.27</td>\n",
       "      <td>407.56</td>\n",
       "      <td>3768.16</td>\n",
       "    </tr>\n",
       "    <tr>\n",
       "      <th>2</th>\n",
       "      <td>1992-01-01</td>\n",
       "      <td>0.06</td>\n",
       "      <td>0.61</td>\n",
       "      <td>1.38</td>\n",
       "      <td>1.49</td>\n",
       "      <td>0.02</td>\n",
       "      <td>3.54</td>\n",
       "      <td>3.56</td>\n",
       "      <td>33,855.80</td>\n",
       "      <td>452.18</td>\n",
       "      <td>3865.47</td>\n",
       "    </tr>\n",
       "    <tr>\n",
       "      <th>3</th>\n",
       "      <td>1993-01-01</td>\n",
       "      <td>0.25</td>\n",
       "      <td>0.56</td>\n",
       "      <td>1.31</td>\n",
       "      <td>1.53</td>\n",
       "      <td>0.02</td>\n",
       "      <td>3.64</td>\n",
       "      <td>3.66</td>\n",
       "      <td>38,199.94</td>\n",
       "      <td>428.85</td>\n",
       "      <td>3977.29</td>\n",
       "    </tr>\n",
       "    <tr>\n",
       "      <th>4</th>\n",
       "      <td>1994-01-01</td>\n",
       "      <td>0.30</td>\n",
       "      <td>0.65</td>\n",
       "      <td>1.55</td>\n",
       "      <td>1.74</td>\n",
       "      <td>0.02</td>\n",
       "      <td>4.23</td>\n",
       "      <td>4.26</td>\n",
       "      <td>40,742.25</td>\n",
       "      <td>501.13</td>\n",
       "      <td>4154.90</td>\n",
       "    </tr>\n",
       "  </tbody>\n",
       "</table>\n",
       "</div>"
      ],
      "text/plain": [
       "        year  GHG_energy  GHG_manufacturing  GHG_Transport  GHG_Others  \\\n",
       "0 1990-01-01        0.06               0.61           1.41        1.64   \n",
       "1 1991-01-01        0.06               0.50           1.25        1.46   \n",
       "2 1992-01-01        0.06               0.61           1.38        1.49   \n",
       "3 1993-01-01        0.25               0.56           1.31        1.53   \n",
       "4 1994-01-01        0.30               0.65           1.55        1.74   \n",
       "\n",
       "   GHG_fugitive  GHG_Fuel_consumption  Total_GHG_emissions  \\\n",
       "0          0.02                  3.71                 3.73   \n",
       "1          0.02                  3.26                 3.28   \n",
       "2          0.02                  3.54                 3.56   \n",
       "3          0.02                  3.64                 3.66   \n",
       "4          0.02                  4.23                 4.26   \n",
       "\n",
       "  FC_Energy_Industry(TJ)  FC_Transport  FC_Other_Sectors  \n",
       "0              30,396.67        464.00           3702.35  \n",
       "1              32,081.27        407.56           3768.16  \n",
       "2              33,855.80        452.18           3865.47  \n",
       "3              38,199.94        428.85           3977.29  \n",
       "4              40,742.25        501.13           4154.90  "
      ]
     },
     "execution_count": 67,
     "metadata": {},
     "output_type": "execute_result"
    }
   ],
   "source": [
    "df['year'] = pd.to_datetime(df['year'], format='%Y')\n",
    "df.head()"
   ]
  },
  {
   "cell_type": "code",
   "execution_count": 68,
   "id": "f11593b2",
   "metadata": {},
   "outputs": [
    {
     "data": {
      "text/html": [
       "<div>\n",
       "<style scoped>\n",
       "    .dataframe tbody tr th:only-of-type {\n",
       "        vertical-align: middle;\n",
       "    }\n",
       "\n",
       "    .dataframe tbody tr th {\n",
       "        vertical-align: top;\n",
       "    }\n",
       "\n",
       "    .dataframe thead th {\n",
       "        text-align: right;\n",
       "    }\n",
       "</style>\n",
       "<table border=\"1\" class=\"dataframe\">\n",
       "  <thead>\n",
       "    <tr style=\"text-align: right;\">\n",
       "      <th></th>\n",
       "      <th>GHG_energy</th>\n",
       "      <th>GHG_manufacturing</th>\n",
       "      <th>GHG_Transport</th>\n",
       "      <th>GHG_Others</th>\n",
       "      <th>GHG_fugitive</th>\n",
       "      <th>GHG_Fuel_consumption</th>\n",
       "      <th>Total_GHG_emissions</th>\n",
       "      <th>FC_Energy_Industry(TJ)</th>\n",
       "      <th>FC_Transport</th>\n",
       "      <th>FC_Other_Sectors</th>\n",
       "    </tr>\n",
       "    <tr>\n",
       "      <th>year</th>\n",
       "      <th></th>\n",
       "      <th></th>\n",
       "      <th></th>\n",
       "      <th></th>\n",
       "      <th></th>\n",
       "      <th></th>\n",
       "      <th></th>\n",
       "      <th></th>\n",
       "      <th></th>\n",
       "      <th></th>\n",
       "    </tr>\n",
       "  </thead>\n",
       "  <tbody>\n",
       "    <tr>\n",
       "      <th>1990-01-01</th>\n",
       "      <td>0.06</td>\n",
       "      <td>0.61</td>\n",
       "      <td>1.41</td>\n",
       "      <td>1.64</td>\n",
       "      <td>0.02</td>\n",
       "      <td>3.71</td>\n",
       "      <td>3.73</td>\n",
       "      <td>30,396.67</td>\n",
       "      <td>464.00</td>\n",
       "      <td>3702.35</td>\n",
       "    </tr>\n",
       "    <tr>\n",
       "      <th>1991-01-01</th>\n",
       "      <td>0.06</td>\n",
       "      <td>0.50</td>\n",
       "      <td>1.25</td>\n",
       "      <td>1.46</td>\n",
       "      <td>0.02</td>\n",
       "      <td>3.26</td>\n",
       "      <td>3.28</td>\n",
       "      <td>32,081.27</td>\n",
       "      <td>407.56</td>\n",
       "      <td>3768.16</td>\n",
       "    </tr>\n",
       "    <tr>\n",
       "      <th>1992-01-01</th>\n",
       "      <td>0.06</td>\n",
       "      <td>0.61</td>\n",
       "      <td>1.38</td>\n",
       "      <td>1.49</td>\n",
       "      <td>0.02</td>\n",
       "      <td>3.54</td>\n",
       "      <td>3.56</td>\n",
       "      <td>33,855.80</td>\n",
       "      <td>452.18</td>\n",
       "      <td>3865.47</td>\n",
       "    </tr>\n",
       "    <tr>\n",
       "      <th>1993-01-01</th>\n",
       "      <td>0.25</td>\n",
       "      <td>0.56</td>\n",
       "      <td>1.31</td>\n",
       "      <td>1.53</td>\n",
       "      <td>0.02</td>\n",
       "      <td>3.64</td>\n",
       "      <td>3.66</td>\n",
       "      <td>38,199.94</td>\n",
       "      <td>428.85</td>\n",
       "      <td>3977.29</td>\n",
       "    </tr>\n",
       "    <tr>\n",
       "      <th>1994-01-01</th>\n",
       "      <td>0.30</td>\n",
       "      <td>0.65</td>\n",
       "      <td>1.55</td>\n",
       "      <td>1.74</td>\n",
       "      <td>0.02</td>\n",
       "      <td>4.23</td>\n",
       "      <td>4.26</td>\n",
       "      <td>40,742.25</td>\n",
       "      <td>501.13</td>\n",
       "      <td>4154.90</td>\n",
       "    </tr>\n",
       "  </tbody>\n",
       "</table>\n",
       "</div>"
      ],
      "text/plain": [
       "            GHG_energy  GHG_manufacturing  GHG_Transport  GHG_Others  \\\n",
       "year                                                                   \n",
       "1990-01-01        0.06               0.61           1.41        1.64   \n",
       "1991-01-01        0.06               0.50           1.25        1.46   \n",
       "1992-01-01        0.06               0.61           1.38        1.49   \n",
       "1993-01-01        0.25               0.56           1.31        1.53   \n",
       "1994-01-01        0.30               0.65           1.55        1.74   \n",
       "\n",
       "            GHG_fugitive  GHG_Fuel_consumption  Total_GHG_emissions  \\\n",
       "year                                                                  \n",
       "1990-01-01          0.02                  3.71                 3.73   \n",
       "1991-01-01          0.02                  3.26                 3.28   \n",
       "1992-01-01          0.02                  3.54                 3.56   \n",
       "1993-01-01          0.02                  3.64                 3.66   \n",
       "1994-01-01          0.02                  4.23                 4.26   \n",
       "\n",
       "           FC_Energy_Industry(TJ)  FC_Transport  FC_Other_Sectors  \n",
       "year                                                               \n",
       "1990-01-01              30,396.67        464.00           3702.35  \n",
       "1991-01-01              32,081.27        407.56           3768.16  \n",
       "1992-01-01              33,855.80        452.18           3865.47  \n",
       "1993-01-01              38,199.94        428.85           3977.29  \n",
       "1994-01-01              40,742.25        501.13           4154.90  "
      ]
     },
     "execution_count": 68,
     "metadata": {},
     "output_type": "execute_result"
    }
   ],
   "source": [
    "df.index = df['year']\n",
    "del df['year']\n",
    "df.head()"
   ]
  },
  {
   "cell_type": "code",
   "execution_count": 69,
   "id": "9c5a7e04",
   "metadata": {},
   "outputs": [
    {
     "name": "stderr",
     "output_type": "stream",
     "text": [
      "C:\\Users\\Sammy\\anaconda3\\lib\\site-packages\\seaborn\\_decorators.py:36: FutureWarning: Pass the following variables as keyword args: x, y. From version 0.12, the only valid positional argument will be `data`, and passing other arguments without an explicit keyword will result in an error or misinterpretation.\n",
      "  warnings.warn(\n"
     ]
    },
    {
     "data": {
      "image/png": "[encoded data removed]",
      "text/plain": [
       "<Figure size 864x576 with 1 Axes>"
      ]
     },
     "metadata": {},
     "output_type": "display_data"
    }
   ],
   "source": [
    "plt.figure(figsize = (12, 8))\n",
    "sns.lineplot(df.index,df['Total_GHG_emissions'])\n",
    "plt.ylabel('Total emissions in Mt(C02)e')\n",
    "plt.show()"
   ]
  },
  {
   "cell_type": "code",
   "execution_count": null,
   "id": "912d17e8",
   "metadata": {},
   "outputs": [],
   "source": []
  },
  {
   "cell_type": "code",
   "execution_count": null,
   "id": "aaac86fd",
   "metadata": {},
   "outputs": [],
   "source": []
  },
  {
   "cell_type": "code",
   "execution_count": 70,
   "id": "58a60dc9",
   "metadata": {},
   "outputs": [],
   "source": [
    "import scipy.stats as ss\n",
    "import pylab"
   ]
  },
  {
   "cell_type": "code",
   "execution_count": 71,
   "id": "00c37e2a",
   "metadata": {},
   "outputs": [
    {
     "data": {
      "image/png": "[encoded data removed]",
      "text/plain": [
       "<Figure size 432x288 with 1 Axes>"
      ]
     },
     "metadata": {},
     "output_type": "display_data"
    }
   ],
   "source": [
    "ss.probplot(df.Total_GHG_emissions, plot = pylab)\n",
    "pylab.show()"
   ]
  },
  {
   "cell_type": "code",
   "execution_count": 125,
   "id": "37b13e57",
   "metadata": {},
   "outputs": [
    {
     "data": {
      "text/plain": [
       "count    27.000000\n",
       "mean      7.883704\n",
       "std       3.635203\n",
       "min       3.280000\n",
       "25%       4.685000\n",
       "50%       6.840000\n",
       "75%      10.040000\n",
       "max      15.020000\n",
       "Name: Total_GHG_emissions, dtype: float64"
      ]
     },
     "execution_count": 125,
     "metadata": {},
     "output_type": "execute_result"
    }
   ],
   "source": [
    "df_tot_emissions = df['Total_GHG_emissions']\n",
    "df_tot_emissions.describe()\n"
   ]
  },
  {
   "cell_type": "code",
   "execution_count": null,
   "id": "c572fe2c",
   "metadata": {},
   "outputs": [],
   "source": [
    "size = int(len(df_tot_emissions) * 0.8 )\n",
    "df_train = df_tot_emissions.iloc[:size]\n",
    "df_test = df_tot_emissions.iloc[size:]"
   ]
  },
  {
   "cell_type": "code",
   "execution_count": null,
   "id": "a462c442",
   "metadata": {},
   "outputs": [],
   "source": []
  },
  {
   "cell_type": "code",
   "execution_count": null,
   "id": "b29f50f3",
   "metadata": {},
   "outputs": [],
   "source": []
  },
  {
   "cell_type": "code",
   "execution_count": null,
   "id": "0c43d2ac",
   "metadata": {},
   "outputs": [],
   "source": [
    "df_train.plot(color = 'r')\n",
    "df_test.plot(color = 'b')\n",
    "plt.title('Train/Test split')\n",
    "plt.show()"
   ]
  },
  {
   "cell_type": "code",
   "execution_count": null,
   "id": "c482cc4d",
   "metadata": {},
   "outputs": [],
   "source": [
    "df_train.tail()"
   ]
  },
  {
   "cell_type": "code",
   "execution_count": null,
   "id": "28528c8d",
   "metadata": {},
   "outputs": [],
   "source": [
    "df_test.head()"
   ]
  },
  {
   "cell_type": "code",
   "execution_count": null,
   "id": "e61a6652",
   "metadata": {},
   "outputs": [],
   "source": []
  },
  {
   "cell_type": "markdown",
   "id": "b31cb243",
   "metadata": {},
   "source": [
    "# Stationarity\n",
    "Stationarity is very important in time series modelling and this has become so essential since most models have the assumption that the data is stationary.\n",
    "\n",
    "What then is Stationarity?<br>\n",
    "Stationarity of time data simply means that the manner in which the data changes is constant."
   ]
  },
  {
   "cell_type": "code",
   "execution_count": null,
   "id": "41220fde",
   "metadata": {},
   "outputs": [],
   "source": []
  },
  {
   "cell_type": "code",
   "execution_count": 73,
   "id": "dd7398f2",
   "metadata": {},
   "outputs": [
    {
     "data": {
      "text/plain": [
       "(1.8098264454801734,\n",
       " 0.9983683084156306,\n",
       " 3,\n",
       " 23,\n",
       " {'1%': -3.7529275211638033,\n",
       "  '5%': -2.998499866852963,\n",
       "  '10%': -2.6389669754253307},\n",
       " 47.681745002607634)"
      ]
     },
     "execution_count": 73,
     "metadata": {},
     "output_type": "execute_result"
    }
   ],
   "source": [
    "sts.adfuller(df_tot_emissions)"
   ]
  },
  {
   "cell_type": "markdown",
   "id": "0c6e6342",
   "metadata": {},
   "source": [
    "# SEASONALITY"
   ]
  },
  {
   "cell_type": "code",
   "execution_count": 74,
   "id": "bf81750d",
   "metadata": {},
   "outputs": [
    {
     "data": {
      "image/png": "[encoded data removed]",
      "text/plain": [
       "<Figure size 432x288 with 4 Axes>"
      ]
     },
     "metadata": {},
     "output_type": "display_data"
    }
   ],
   "source": [
    "s_dec_additive = seasonal_decompose(df_tot_emissions, model = 'additive')\n",
    "s_dec_additive.plot()\n",
    "plt.show()"
   ]
  },
  {
   "cell_type": "code",
   "execution_count": 75,
   "id": "9420d7cf",
   "metadata": {},
   "outputs": [
    {
     "data": {
      "image/png": "[encoded data removed]",
      "text/plain": [
       "<Figure size 432x288 with 4 Axes>"
      ]
     },
     "metadata": {},
     "output_type": "display_data"
    }
   ],
   "source": [
    "s_dec_multiplicative = seasonal_decompose(df_tot_emissions, model = 'multiplicative')\n",
    "s_dec_multiplicative.plot()\n",
    "plt.show()"
   ]
  },
  {
   "cell_type": "markdown",
   "id": "a18bfbe7",
   "metadata": {},
   "source": [
    "# ACF and PACF"
   ]
  },
  {
   "cell_type": "code",
   "execution_count": 76,
   "id": "1f04b475",
   "metadata": {},
   "outputs": [
    {
     "data": {
      "image/png": "[encoded data removed]",
      "text/plain": [
       "<Figure size 432x288 with 1 Axes>"
      ]
     },
     "metadata": {},
     "output_type": "display_data"
    }
   ],
   "source": [
    "sgt.plot_acf(df_tot_emissions, zero = False)\n",
    "plt.title('ACF plot for Total Emissions', size = 24)\n",
    "plt.show()\n",
    "\n",
    "# The blue area around the x -axis represent significance\n",
    "# The value outside are significantly different from zero which typically indicates autocorrelation"
   ]
  },
  {
   "cell_type": "code",
   "execution_count": 77,
   "id": "74144254",
   "metadata": {},
   "outputs": [
    {
     "data": {
      "image/png": "[encoded data removed]",
      "text/plain": [
       "<Figure size 432x288 with 1 Axes>"
      ]
     },
     "metadata": {},
     "output_type": "display_data"
    }
   ],
   "source": [
    "\n",
    "sgt.plot_pacf(df_tot_emissions,lags = 12, zero = False, method = 'ols')\n",
    "plt.title('PACF plot for Total emissions', size = 24)\n",
    "plt.show()"
   ]
  },
  {
   "cell_type": "code",
   "execution_count": 92,
   "id": "d92dc10d",
   "metadata": {},
   "outputs": [],
   "source": [
    "returns = df_tot_emissions.pct_change(1).mul(100)\n",
    "returns = returns.iloc[1:]\n"
   ]
  },
  {
   "cell_type": "code",
   "execution_count": 93,
   "id": "ecad8cb1",
   "metadata": {},
   "outputs": [
    {
     "data": {
      "text/plain": [
       "(-5.683259705234241,\n",
       " 8.391312671492134e-07,\n",
       " 2,\n",
       " 23,\n",
       " {'1%': -3.7529275211638033,\n",
       "  '5%': -2.998499866852963,\n",
       "  '10%': -2.6389669754253307},\n",
       " 125.65218834004938)"
      ]
     },
     "execution_count": 93,
     "metadata": {},
     "output_type": "execute_result"
    }
   ],
   "source": [
    "sts.adfuller(returns)"
   ]
  },
  {
   "cell_type": "code",
   "execution_count": null,
   "id": "5451be54",
   "metadata": {
    "scrolled": true
   },
   "outputs": [],
   "source": []
  },
  {
   "cell_type": "code",
   "execution_count": null,
   "id": "3e1058ff",
   "metadata": {},
   "outputs": [],
   "source": []
  },
  {
   "cell_type": "code",
   "execution_count": 5,
   "id": "27670a3e",
   "metadata": {},
   "outputs": [],
   "source": [
    "from statsmodels.tsa.arima.model import ARIMA"
   ]
  },
  {
   "cell_type": "code",
   "execution_count": 6,
   "id": "3f0c0e05",
   "metadata": {},
   "outputs": [
    {
     "ename": "NameError",
     "evalue": "name 'returns' is not defined",
     "output_type": "error",
     "traceback": [
      "\u001b[1;31m---------------------------------------------------------------------------\u001b[0m",
      "\u001b[1;31mNameError\u001b[0m                                 Traceback (most recent call last)",
      "Input \u001b[1;32mIn [6]\u001b[0m, in \u001b[0;36m<cell line: 1>\u001b[1;34m()\u001b[0m\n\u001b[1;32m----> 1\u001b[0m model_AR \u001b[38;5;241m=\u001b[39m ARIMA(\u001b[43mreturns\u001b[49m, order \u001b[38;5;241m=\u001b[39m (\u001b[38;5;241m3\u001b[39m,\u001b[38;5;241m0\u001b[39m,\u001b[38;5;241m0\u001b[39m))\n\u001b[0;32m      2\u001b[0m results_ar \u001b[38;5;241m=\u001b[39m model_AR\u001b[38;5;241m.\u001b[39mfit()\n\u001b[0;32m      3\u001b[0m \u001b[38;5;28mprint\u001b[39m(results_ar\u001b[38;5;241m.\u001b[39msummary())\n",
      "\u001b[1;31mNameError\u001b[0m: name 'returns' is not defined"
     ]
    }
   ],
   "source": [
    "model_AR = ARIMA(returns, order = (3,0,0))\n",
    "results_ar = model_AR.fit()\n",
    "print(results_ar.summary())"
   ]
  },
  {
   "cell_type": "code",
   "execution_count": 7,
   "id": "46c1d102",
   "metadata": {},
   "outputs": [
    {
     "ename": "NameError",
     "evalue": "name 'df_tot_emissions' is not defined",
     "output_type": "error",
     "traceback": [
      "\u001b[1;31m---------------------------------------------------------------------------\u001b[0m",
      "\u001b[1;31mNameError\u001b[0m                                 Traceback (most recent call last)",
      "Input \u001b[1;32mIn [7]\u001b[0m, in \u001b[0;36m<cell line: 1>\u001b[1;34m()\u001b[0m\n\u001b[1;32m----> 1\u001b[0m model_AR_3 \u001b[38;5;241m=\u001b[39m ARIMA(\u001b[43mdf_tot_emissions\u001b[49m, order \u001b[38;5;241m=\u001b[39m (\u001b[38;5;241m5\u001b[39m,\u001b[38;5;241m1\u001b[39m,\u001b[38;5;241m1\u001b[39m))\n\u001b[0;32m      2\u001b[0m results_ar_3 \u001b[38;5;241m=\u001b[39m model_AR\u001b[38;5;241m.\u001b[39mfit()\n\u001b[0;32m      3\u001b[0m results_ar_3\u001b[38;5;241m.\u001b[39msummary()\n",
      "\u001b[1;31mNameError\u001b[0m: name 'df_tot_emissions' is not defined"
     ]
    }
   ],
   "source": [
    "model_AR_3 = ARIMA(df_tot_emissions, order = (5,1,1))\n",
    "results_ar_3 = model_AR.fit()\n",
    "results_ar_3.summary()"
   ]
  },
  {
   "cell_type": "code",
   "execution_count": null,
   "id": "c112c515",
   "metadata": {},
   "outputs": [],
   "source": []
  }
 ],
 "metadata": {
  "kernelspec": {
   "display_name": "Python 3 (ipykernel)",
   "language": "python",
   "name": "python3"
  },
  "language_info": {
   "codemirror_mode": {
    "name": "ipython",
    "version": 3
   },
   "file_extension": ".py",
   "mimetype": "text/x-python",
   "name": "python",
   "nbconvert_exporter": "python",
   "pygments_lexer": "ipython3",
   "version": "3.9.12"
  }
 },
 "nbformat": 4,
 "nbformat_minor": 5
}
